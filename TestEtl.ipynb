{
 "cells": [
  {
   "cell_type": "code",
   "execution_count": 2,
   "metadata": {},
   "outputs": [],
   "source": [
    "import pandas as pd"
   ]
  },
  {
   "cell_type": "code",
   "execution_count": null,
   "metadata": {},
   "outputs": [],
   "source": []
  },
  {
   "cell_type": "markdown",
   "metadata": {},
   "source": [
    "# Test ETL of CSV"
   ]
  },
  {
   "cell_type": "code",
   "execution_count": 12,
   "metadata": {},
   "outputs": [],
   "source": [
    "df = pd.read_csv('F:/Brightwheel/x_ca_omcc_providers.csv', header=None)"
   ]
  },
  {
   "cell_type": "code",
   "execution_count": 13,
   "metadata": {},
   "outputs": [
    {
     "data": {
      "text/html": [
       "<div>\n",
       "<style scoped>\n",
       "    .dataframe tbody tr th:only-of-type {\n",
       "        vertical-align: middle;\n",
       "    }\n",
       "\n",
       "    .dataframe tbody tr th {\n",
       "        vertical-align: top;\n",
       "    }\n",
       "\n",
       "    .dataframe thead th {\n",
       "        text-align: right;\n",
       "    }\n",
       "</style>\n",
       "<table border=\"1\" class=\"dataframe\">\n",
       "  <thead>\n",
       "    <tr style=\"text-align: right;\">\n",
       "      <th></th>\n",
       "      <th>0</th>\n",
       "      <th>1</th>\n",
       "      <th>2</th>\n",
       "      <th>3</th>\n",
       "      <th>4</th>\n",
       "      <th>5</th>\n",
       "      <th>6</th>\n",
       "    </tr>\n",
       "  </thead>\n",
       "  <tbody>\n",
       "    <tr>\n",
       "      <th>0</th>\n",
       "      <td>La Rue Park Child Development Center</td>\n",
       "      <td>Child Care Center</td>\n",
       "      <td>50 Atrium Way</td>\n",
       "      <td>Davis</td>\n",
       "      <td>CA</td>\n",
       "      <td>95616</td>\n",
       "      <td>5307538716</td>\n",
       "    </tr>\n",
       "    <tr>\n",
       "      <th>1</th>\n",
       "      <td>Carousel Preschool</td>\n",
       "      <td>Child Care Center</td>\n",
       "      <td>8328 Airport Blvd.</td>\n",
       "      <td>Los Angeles</td>\n",
       "      <td>CA</td>\n",
       "      <td>90045</td>\n",
       "      <td>3102166641</td>\n",
       "    </tr>\n",
       "    <tr>\n",
       "      <th>2</th>\n",
       "      <td>Adventure Club - Quail Glen</td>\n",
       "      <td>Child Care Center</td>\n",
       "      <td>1250 Canevari Dr</td>\n",
       "      <td>Roseville</td>\n",
       "      <td>CA</td>\n",
       "      <td>95747</td>\n",
       "      <td>9167727529</td>\n",
       "    </tr>\n",
       "    <tr>\n",
       "      <th>3</th>\n",
       "      <td>Adventure Club - Coyote Ridge</td>\n",
       "      <td>Child Care Center</td>\n",
       "      <td>1751 Morningstar Dr</td>\n",
       "      <td>Roseville</td>\n",
       "      <td>CA</td>\n",
       "      <td>95747</td>\n",
       "      <td>9167727271</td>\n",
       "    </tr>\n",
       "    <tr>\n",
       "      <th>4</th>\n",
       "      <td>Azusa Discovery Center</td>\n",
       "      <td>Child Care Center</td>\n",
       "      <td>155 W. Arrow Highway</td>\n",
       "      <td>Azusa</td>\n",
       "      <td>CA</td>\n",
       "      <td>91702</td>\n",
       "      <td>6263341806</td>\n",
       "    </tr>\n",
       "    <tr>\n",
       "      <th>5</th>\n",
       "      <td>Light of Christ Children's Center</td>\n",
       "      <td>Child Care Center</td>\n",
       "      <td>336 South Kalmia Street</td>\n",
       "      <td>Escondido</td>\n",
       "      <td>CA</td>\n",
       "      <td>92025</td>\n",
       "      <td>7607456849</td>\n",
       "    </tr>\n",
       "    <tr>\n",
       "      <th>6</th>\n",
       "      <td>Little Peoples Corner Preschool/daycare</td>\n",
       "      <td>Child Care Center</td>\n",
       "      <td>3844 Walnut Drive #c</td>\n",
       "      <td>Eureka</td>\n",
       "      <td>CA</td>\n",
       "      <td>95503</td>\n",
       "      <td>7074450339</td>\n",
       "    </tr>\n",
       "    <tr>\n",
       "      <th>7</th>\n",
       "      <td>Kindercare Learning Center LLC</td>\n",
       "      <td>Child Care Center</td>\n",
       "      <td>5448 San Juan Ave</td>\n",
       "      <td>Citrus Heights</td>\n",
       "      <td>CA</td>\n",
       "      <td>95610</td>\n",
       "      <td>9169615599</td>\n",
       "    </tr>\n",
       "    <tr>\n",
       "      <th>8</th>\n",
       "      <td>Olive Knolls Christian School</td>\n",
       "      <td>Child Care Center</td>\n",
       "      <td>6201 Fruitvale Ave.</td>\n",
       "      <td>Bakersfield</td>\n",
       "      <td>CA</td>\n",
       "      <td>93308</td>\n",
       "      <td>6613933566</td>\n",
       "    </tr>\n",
       "    <tr>\n",
       "      <th>9</th>\n",
       "      <td>Peace Lutheran Early Childhood Education Center</td>\n",
       "      <td>Child Care Center</td>\n",
       "      <td>928 San Juan Rd</td>\n",
       "      <td>Sacramento</td>\n",
       "      <td>CA</td>\n",
       "      <td>95834</td>\n",
       "      <td>9169274060</td>\n",
       "    </tr>\n",
       "  </tbody>\n",
       "</table>\n",
       "</div>"
      ],
      "text/plain": [
       "                                                 0                  1  \\\n",
       "0             La Rue Park Child Development Center  Child Care Center   \n",
       "1                               Carousel Preschool  Child Care Center   \n",
       "2                      Adventure Club - Quail Glen  Child Care Center   \n",
       "3                    Adventure Club - Coyote Ridge  Child Care Center   \n",
       "4                           Azusa Discovery Center  Child Care Center   \n",
       "5                Light of Christ Children's Center  Child Care Center   \n",
       "6          Little Peoples Corner Preschool/daycare  Child Care Center   \n",
       "7                   Kindercare Learning Center LLC  Child Care Center   \n",
       "8                    Olive Knolls Christian School  Child Care Center   \n",
       "9  Peace Lutheran Early Childhood Education Center  Child Care Center   \n",
       "\n",
       "                         2               3   4      5           6  \n",
       "0            50 Atrium Way           Davis  CA  95616  5307538716  \n",
       "1       8328 Airport Blvd.     Los Angeles  CA  90045  3102166641  \n",
       "2         1250 Canevari Dr       Roseville  CA  95747  9167727529  \n",
       "3      1751 Morningstar Dr       Roseville  CA  95747  9167727271  \n",
       "4     155 W. Arrow Highway           Azusa  CA  91702  6263341806  \n",
       "5  336 South Kalmia Street       Escondido  CA  92025  7607456849  \n",
       "6     3844 Walnut Drive #c          Eureka  CA  95503  7074450339  \n",
       "7        5448 San Juan Ave  Citrus Heights  CA  95610  9169615599  \n",
       "8      6201 Fruitvale Ave.     Bakersfield  CA  93308  6613933566  \n",
       "9          928 San Juan Rd      Sacramento  CA  95834  9169274060  "
      ]
     },
     "execution_count": 13,
     "metadata": {},
     "output_type": "execute_result"
    }
   ],
   "source": [
    "df.head(10)"
   ]
  },
  {
   "cell_type": "markdown",
   "metadata": {},
   "source": [
    "Need to add columns"
   ]
  },
  {
   "cell_type": "code",
   "execution_count": 14,
   "metadata": {},
   "outputs": [],
   "source": [
    "df.columns = ['Name', 'Type', 'Address', 'City', 'State', 'Zip', 'Phone']"
   ]
  },
  {
   "cell_type": "code",
   "execution_count": 15,
   "metadata": {},
   "outputs": [
    {
     "data": {
      "text/html": [
       "<div>\n",
       "<style scoped>\n",
       "    .dataframe tbody tr th:only-of-type {\n",
       "        vertical-align: middle;\n",
       "    }\n",
       "\n",
       "    .dataframe tbody tr th {\n",
       "        vertical-align: top;\n",
       "    }\n",
       "\n",
       "    .dataframe thead th {\n",
       "        text-align: right;\n",
       "    }\n",
       "</style>\n",
       "<table border=\"1\" class=\"dataframe\">\n",
       "  <thead>\n",
       "    <tr style=\"text-align: right;\">\n",
       "      <th></th>\n",
       "      <th>Name</th>\n",
       "      <th>Type</th>\n",
       "      <th>Address</th>\n",
       "      <th>City</th>\n",
       "      <th>State</th>\n",
       "      <th>Zip</th>\n",
       "      <th>Phone</th>\n",
       "    </tr>\n",
       "  </thead>\n",
       "  <tbody>\n",
       "    <tr>\n",
       "      <th>0</th>\n",
       "      <td>La Rue Park Child Development Center</td>\n",
       "      <td>Child Care Center</td>\n",
       "      <td>50 Atrium Way</td>\n",
       "      <td>Davis</td>\n",
       "      <td>CA</td>\n",
       "      <td>95616</td>\n",
       "      <td>5307538716</td>\n",
       "    </tr>\n",
       "    <tr>\n",
       "      <th>1</th>\n",
       "      <td>Carousel Preschool</td>\n",
       "      <td>Child Care Center</td>\n",
       "      <td>8328 Airport Blvd.</td>\n",
       "      <td>Los Angeles</td>\n",
       "      <td>CA</td>\n",
       "      <td>90045</td>\n",
       "      <td>3102166641</td>\n",
       "    </tr>\n",
       "  </tbody>\n",
       "</table>\n",
       "</div>"
      ],
      "text/plain": [
       "                                   Name               Type  \\\n",
       "0  La Rue Park Child Development Center  Child Care Center   \n",
       "1                    Carousel Preschool  Child Care Center   \n",
       "\n",
       "              Address         City State    Zip       Phone  \n",
       "0       50 Atrium Way        Davis    CA  95616  5307538716  \n",
       "1  8328 Airport Blvd.  Los Angeles    CA  90045  3102166641  "
      ]
     },
     "execution_count": 15,
     "metadata": {},
     "output_type": "execute_result"
    }
   ],
   "source": [
    "df.head(2)"
   ]
  },
  {
   "cell_type": "code",
   "execution_count": 48,
   "metadata": {},
   "outputs": [
    {
     "data": {
      "text/plain": [
       "Name       object\n",
       "Type       object\n",
       "Address    object\n",
       "City       object\n",
       "State      object\n",
       "Zip         int64\n",
       "Phone       int64\n",
       "dtype: object"
      ]
     },
     "execution_count": 48,
     "metadata": {},
     "output_type": "execute_result"
    }
   ],
   "source": [
    "df.dtypes"
   ]
  },
  {
   "cell_type": "markdown",
   "metadata": {},
   "source": [
    "Test inserting data into providers"
   ]
  },
  {
   "cell_type": "code",
   "execution_count": 17,
   "metadata": {},
   "outputs": [],
   "source": [
    "import sqlite3"
   ]
  },
  {
   "cell_type": "code",
   "execution_count": 18,
   "metadata": {},
   "outputs": [],
   "source": [
    "conn = sqlite3.connect('test.db')"
   ]
  },
  {
   "cell_type": "code",
   "execution_count": 19,
   "metadata": {},
   "outputs": [],
   "source": [
    "cursor = conn.cursor()"
   ]
  },
  {
   "cell_type": "markdown",
   "metadata": {},
   "source": [
    "Upsert - allow the address and phone to change for a provider in the same zip - they may have moved"
   ]
  },
  {
   "cell_type": "code",
   "execution_count": 20,
   "metadata": {},
   "outputs": [],
   "source": [
    "insert_csv = \"\"\"\n",
    "INSERT INTO Providers (Name, Type, Address, City, State, Zip, Phone)\n",
    "VALUES(?, ?, ?, ?, ?, ?, ?)\n",
    "ON CONFLICT(Name, Zip) DO UPDATE SET\n",
    "Address = excluded.Address, Phone = excluded.Phone\n",
    "\"\"\""
   ]
  },
  {
   "cell_type": "code",
   "execution_count": 21,
   "metadata": {},
   "outputs": [
    {
     "data": {
      "text/plain": [
       "<sqlite3.Cursor at 0x207d93cc500>"
      ]
     },
     "execution_count": 21,
     "metadata": {},
     "output_type": "execute_result"
    }
   ],
   "source": [
    "cursor.execute(insert_csv, ('Name1', 'Child Care Center', 'Add1', 'City1', 'CA', 123, 1234))\n",
    "conn.commit()"
   ]
  },
  {
   "cell_type": "code",
   "execution_count": 25,
   "metadata": {},
   "outputs": [
    {
     "data": {
      "text/plain": [
       "<sqlite3.Cursor at 0x207d93cc500>"
      ]
     },
     "execution_count": 25,
     "metadata": {},
     "output_type": "execute_result"
    }
   ],
   "source": [
    "cursor.execute(\"SELECT * FROM Providers\")\n",
    "results = cursor.fetchall()\n",
    "for res in results:\n",
    "    print(res)"
   ]
  },
  {
   "cell_type": "code",
   "execution_count": 27,
   "metadata": {},
   "outputs": [
    {
     "name": "stdout",
     "output_type": "stream",
     "text": [
      "('Name1', 'Child Care Center', 'Add1', 'City1', 'CA', 123, 1234, None, None)\n"
     ]
    }
   ],
   "source": []
  },
  {
   "cell_type": "code",
   "execution_count": 28,
   "metadata": {},
   "outputs": [
    {
     "data": {
      "text/plain": [
       "<sqlite3.Cursor at 0x207d93cc500>"
      ]
     },
     "execution_count": 28,
     "metadata": {},
     "output_type": "execute_result"
    }
   ],
   "source": [
    "cursor.execute(insert_csv, ('Name1', 'Child Care Center', 'Add2', 'City2', 'CA', 123, 4567))\n",
    "conn.commit()"
   ]
  },
  {
   "cell_type": "code",
   "execution_count": 30,
   "metadata": {},
   "outputs": [
    {
     "name": "stdout",
     "output_type": "stream",
     "text": [
      "('Name1', 'Child Care Center', 'Add2', 'City1', 'CA', 123, 4567, None, None)\n"
     ]
    }
   ],
   "source": [
    "cursor.execute(\"SELECT * FROM Providers\")\n",
    "results = cursor.fetchall()\n",
    "for res in results:\n",
    "    print(res)"
   ]
  },
  {
   "cell_type": "code",
   "execution_count": 31,
   "metadata": {},
   "outputs": [],
   "source": [
    "conn.close()"
   ]
  },
  {
   "cell_type": "code",
   "execution_count": null,
   "metadata": {},
   "outputs": [],
   "source": []
  },
  {
   "cell_type": "markdown",
   "metadata": {},
   "source": [
    "Test adding all data"
   ]
  },
  {
   "cell_type": "code",
   "execution_count": 50,
   "metadata": {},
   "outputs": [
    {
     "name": "stdout",
     "output_type": "stream",
     "text": [
      "LA RUE PARK CHILD DEVELOPMENT CENTER CHILD CARE CENTER 50 ATRIUM WAY DAVIS CA 95616 5307538716\n"
     ]
    }
   ],
   "source": [
    "for idx, row in df.iterrows():\n",
    "    print(row['Name'].upper(), row['Type'].upper(), row['Address'].upper(), row['City'].upper(), row['State'].upper(), int(row['Zip']), int(row['Phone']))\n",
    "    break"
   ]
  },
  {
   "cell_type": "code",
   "execution_count": null,
   "metadata": {},
   "outputs": [],
   "source": []
  },
  {
   "cell_type": "code",
   "execution_count": 45,
   "metadata": {},
   "outputs": [],
   "source": [
    "conn = sqlite3.connect('test.db')\n",
    "cursor = conn.cursor()"
   ]
  },
  {
   "cell_type": "markdown",
   "metadata": {},
   "source": [
    "Normalize data when inserted - make upper case"
   ]
  },
  {
   "cell_type": "code",
   "execution_count": 51,
   "metadata": {},
   "outputs": [
    {
     "ename": "AttributeError",
     "evalue": "'float' object has no attribute 'upper'",
     "output_type": "error",
     "traceback": [
      "\u001b[1;31m---------------------------------------------------------------------------\u001b[0m",
      "\u001b[1;31mAttributeError\u001b[0m                            Traceback (most recent call last)",
      "\u001b[1;32m<ipython-input-51-108640c0ced8>\u001b[0m in \u001b[0;36m<module>\u001b[1;34m\u001b[0m\n\u001b[0;32m      1\u001b[0m \u001b[1;32mfor\u001b[0m \u001b[0midx\u001b[0m\u001b[1;33m,\u001b[0m \u001b[0mrow\u001b[0m \u001b[1;32min\u001b[0m \u001b[0mdf\u001b[0m\u001b[1;33m.\u001b[0m\u001b[0miterrows\u001b[0m\u001b[1;33m(\u001b[0m\u001b[1;33m)\u001b[0m\u001b[1;33m:\u001b[0m\u001b[1;33m\u001b[0m\u001b[1;33m\u001b[0m\u001b[0m\n\u001b[1;32m----> 2\u001b[1;33m     \u001b[0mcursor\u001b[0m\u001b[1;33m.\u001b[0m\u001b[0mexecute\u001b[0m\u001b[1;33m(\u001b[0m\u001b[0minsert_csv\u001b[0m\u001b[1;33m,\u001b[0m \u001b[1;33m(\u001b[0m\u001b[0mrow\u001b[0m\u001b[1;33m[\u001b[0m\u001b[1;34m'Name'\u001b[0m\u001b[1;33m]\u001b[0m\u001b[1;33m.\u001b[0m\u001b[0mupper\u001b[0m\u001b[1;33m(\u001b[0m\u001b[1;33m)\u001b[0m\u001b[1;33m,\u001b[0m \u001b[0mrow\u001b[0m\u001b[1;33m[\u001b[0m\u001b[1;34m'Type'\u001b[0m\u001b[1;33m]\u001b[0m\u001b[1;33m.\u001b[0m\u001b[0mupper\u001b[0m\u001b[1;33m(\u001b[0m\u001b[1;33m)\u001b[0m\u001b[1;33m,\u001b[0m \u001b[0mrow\u001b[0m\u001b[1;33m[\u001b[0m\u001b[1;34m'Address'\u001b[0m\u001b[1;33m]\u001b[0m\u001b[1;33m.\u001b[0m\u001b[0mupper\u001b[0m\u001b[1;33m(\u001b[0m\u001b[1;33m)\u001b[0m\u001b[1;33m,\u001b[0m \u001b[0mrow\u001b[0m\u001b[1;33m[\u001b[0m\u001b[1;34m'City'\u001b[0m\u001b[1;33m]\u001b[0m\u001b[1;33m.\u001b[0m\u001b[0mupper\u001b[0m\u001b[1;33m(\u001b[0m\u001b[1;33m)\u001b[0m\u001b[1;33m,\u001b[0m \u001b[0mrow\u001b[0m\u001b[1;33m[\u001b[0m\u001b[1;34m'State'\u001b[0m\u001b[1;33m]\u001b[0m\u001b[1;33m.\u001b[0m\u001b[0mupper\u001b[0m\u001b[1;33m(\u001b[0m\u001b[1;33m)\u001b[0m\u001b[1;33m,\u001b[0m \u001b[0mint\u001b[0m\u001b[1;33m(\u001b[0m\u001b[0mrow\u001b[0m\u001b[1;33m[\u001b[0m\u001b[1;34m'Zip'\u001b[0m\u001b[1;33m]\u001b[0m\u001b[1;33m)\u001b[0m\u001b[1;33m,\u001b[0m \u001b[0mint\u001b[0m\u001b[1;33m(\u001b[0m\u001b[0mrow\u001b[0m\u001b[1;33m[\u001b[0m\u001b[1;34m'Phone'\u001b[0m\u001b[1;33m]\u001b[0m\u001b[1;33m)\u001b[0m\u001b[1;33m)\u001b[0m\u001b[1;33m)\u001b[0m\u001b[1;33m\u001b[0m\u001b[1;33m\u001b[0m\u001b[0m\n\u001b[0m",
      "\u001b[1;31mAttributeError\u001b[0m: 'float' object has no attribute 'upper'"
     ]
    }
   ],
   "source": [
    "for idx, row in df.iterrows():\n",
    "    cursor.execute(insert_csv, (row['Name'].upper(), row['Type'].upper(), row['Address'].upper(), row['City'].upper(), row['State'].upper(), int(row['Zip']), int(row['Phone'])))    "
   ]
  },
  {
   "cell_type": "code",
   "execution_count": 54,
   "metadata": {},
   "outputs": [],
   "source": [
    "df['Name'] = df['Name'].astype(str)\n",
    "df['Type'] = df['Type'].astype(str)\n",
    "df['Address'] = df['Address'].astype(str)\n",
    "df['City'] = df['City'].astype(str)\n",
    "df['State'] = df['State'].astype(str)"
   ]
  },
  {
   "cell_type": "code",
   "execution_count": 55,
   "metadata": {},
   "outputs": [],
   "source": [
    "for idx, row in df.iterrows():\n",
    "    cursor.execute(insert_csv, (row['Name'].upper(), row['Type'].upper(), row['Address'].upper(), row['City'].upper(), row['State'].upper(), int(row['Zip']), int(row['Phone'])))    "
   ]
  },
  {
   "cell_type": "code",
   "execution_count": null,
   "metadata": {},
   "outputs": [],
   "source": []
  },
  {
   "cell_type": "code",
   "execution_count": 56,
   "metadata": {},
   "outputs": [
    {
     "name": "stdout",
     "output_type": "stream",
     "text": [
      "('LA RUE PARK CHILD DEVELOPMENT CENTER', 'CHILD CARE CENTER', '50 ATRIUM WAY', 'DAVIS', 'CA', 95616, 5307538716, None, None)\n",
      "('CAROUSEL PRESCHOOL', 'CHILD CARE CENTER', '8328 AIRPORT BLVD.', 'LOS ANGELES', 'CA', 90045, 3102166641, None, None)\n",
      "('ADVENTURE CLUB - QUAIL GLEN', 'CHILD CARE CENTER', '1250 CANEVARI DR', 'ROSEVILLE', 'CA', 95747, 9167727529, None, None)\n",
      "('ADVENTURE CLUB - COYOTE RIDGE', 'CHILD CARE CENTER', '1751 MORNINGSTAR DR', 'ROSEVILLE', 'CA', 95747, 9167727271, None, None)\n",
      "('AZUSA DISCOVERY CENTER', 'CHILD CARE CENTER', '155 W. ARROW HIGHWAY', 'AZUSA', 'CA', 91702, 6263341806, None, None)\n"
     ]
    }
   ],
   "source": [
    "cursor.execute(\"SELECT * FROM Providers LIMIT 5\")\n",
    "results = cursor.fetchall()\n",
    "for res in results:\n",
    "    print(res)"
   ]
  },
  {
   "cell_type": "code",
   "execution_count": 57,
   "metadata": {},
   "outputs": [],
   "source": [
    "conn.close()"
   ]
  },
  {
   "cell_type": "code",
   "execution_count": null,
   "metadata": {},
   "outputs": [],
   "source": []
  },
  {
   "cell_type": "code",
   "execution_count": null,
   "metadata": {},
   "outputs": [],
   "source": []
  },
  {
   "cell_type": "code",
   "execution_count": null,
   "metadata": {},
   "outputs": [],
   "source": []
  },
  {
   "cell_type": "markdown",
   "metadata": {},
   "source": [
    "# Test reading from internal data source"
   ]
  },
  {
   "cell_type": "code",
   "execution_count": 59,
   "metadata": {},
   "outputs": [],
   "source": [
    "df2 = pd.read_json('https://bw-interviews.herokuapp.com/data/providers')"
   ]
  },
  {
   "cell_type": "code",
   "execution_count": 61,
   "metadata": {},
   "outputs": [
    {
     "data": {
      "text/html": [
       "<div>\n",
       "<style scoped>\n",
       "    .dataframe tbody tr th:only-of-type {\n",
       "        vertical-align: middle;\n",
       "    }\n",
       "\n",
       "    .dataframe tbody tr th {\n",
       "        vertical-align: top;\n",
       "    }\n",
       "\n",
       "    .dataframe thead th {\n",
       "        text-align: right;\n",
       "    }\n",
       "</style>\n",
       "<table border=\"1\" class=\"dataframe\">\n",
       "  <thead>\n",
       "    <tr style=\"text-align: right;\">\n",
       "      <th></th>\n",
       "      <th>providers</th>\n",
       "    </tr>\n",
       "  </thead>\n",
       "  <tbody>\n",
       "    <tr>\n",
       "      <th>0</th>\n",
       "      <td>{'id': 'prvdrs_xTVZPYTrIzsRBVJojkuHkRh6', 'pro...</td>\n",
       "    </tr>\n",
       "    <tr>\n",
       "      <th>1</th>\n",
       "      <td>{'id': 'prvdrs_9XYNilFfFjGeJjWbjP2uvLje', 'pro...</td>\n",
       "    </tr>\n",
       "    <tr>\n",
       "      <th>2</th>\n",
       "      <td>{'id': 'prvdrs_6fwq7dwGBVctHrZWbpBuZhWJ', 'pro...</td>\n",
       "    </tr>\n",
       "    <tr>\n",
       "      <th>3</th>\n",
       "      <td>{'id': 'prvdrs_8YF3tyi0eeqlJm1UIeOZVx68', 'pro...</td>\n",
       "    </tr>\n",
       "    <tr>\n",
       "      <th>4</th>\n",
       "      <td>{'id': 'prvdrs_nH2OzYh77wA1vs2aXsMqfNLx', 'pro...</td>\n",
       "    </tr>\n",
       "  </tbody>\n",
       "</table>\n",
       "</div>"
      ],
      "text/plain": [
       "                                           providers\n",
       "0  {'id': 'prvdrs_xTVZPYTrIzsRBVJojkuHkRh6', 'pro...\n",
       "1  {'id': 'prvdrs_9XYNilFfFjGeJjWbjP2uvLje', 'pro...\n",
       "2  {'id': 'prvdrs_6fwq7dwGBVctHrZWbpBuZhWJ', 'pro...\n",
       "3  {'id': 'prvdrs_8YF3tyi0eeqlJm1UIeOZVx68', 'pro...\n",
       "4  {'id': 'prvdrs_nH2OzYh77wA1vs2aXsMqfNLx', 'pro..."
      ]
     },
     "execution_count": 61,
     "metadata": {},
     "output_type": "execute_result"
    }
   ],
   "source": [
    "df2.head()"
   ]
  },
  {
   "cell_type": "code",
   "execution_count": 64,
   "metadata": {},
   "outputs": [],
   "source": [
    "import requests"
   ]
  },
  {
   "cell_type": "code",
   "execution_count": 65,
   "metadata": {},
   "outputs": [],
   "source": [
    "response = requests.get('https://bw-interviews.herokuapp.com/data/providers')"
   ]
  },
  {
   "cell_type": "code",
   "execution_count": 66,
   "metadata": {},
   "outputs": [
    {
     "data": {
      "text/plain": [
       "200"
      ]
     },
     "execution_count": 66,
     "metadata": {},
     "output_type": "execute_result"
    }
   ],
   "source": [
    "response.status_code"
   ]
  },
  {
   "cell_type": "code",
   "execution_count": 68,
   "metadata": {},
   "outputs": [],
   "source": [
    "json_output = response.json()"
   ]
  },
  {
   "cell_type": "code",
   "execution_count": 70,
   "metadata": {},
   "outputs": [
    {
     "name": "stdout",
     "output_type": "stream",
     "text": [
      "{'id': 'prvdrs_xTVZPYTrIzsRBVJojkuHkRh6', 'provider_name': 'La Rue Park Child Development Center', 'phone': '(530) 753-8716', 'email': 'snfaria@ucdavis.edu', 'owner_name': 'Elizabeth Wall'}\n"
     ]
    }
   ],
   "source": [
    "for row in json_output['providers']:\n",
    "    print(row)\n",
    "    break"
   ]
  },
  {
   "cell_type": "code",
   "execution_count": 71,
   "metadata": {},
   "outputs": [],
   "source": [
    "import re"
   ]
  },
  {
   "cell_type": "code",
   "execution_count": 79,
   "metadata": {},
   "outputs": [],
   "source": [
    "insert_internal = \"\"\"\n",
    "INSERT INTO InternalSource (ID, Name, Phone, Email, Owner)\n",
    "VALUES(?, ?, ?, ?, ?);\n",
    "\"\"\""
   ]
  },
  {
   "cell_type": "code",
   "execution_count": 72,
   "metadata": {},
   "outputs": [],
   "source": [
    "def phoneNormalize(phone_number):\n",
    "    return re.sub(\"[^0-9]\", \"\", phone_number)"
   ]
  },
  {
   "cell_type": "code",
   "execution_count": 82,
   "metadata": {},
   "outputs": [],
   "source": [
    "def toUpperNormalize(value):\n",
    "    if value:\n",
    "        return value.upper()\n",
    "    return value"
   ]
  },
  {
   "cell_type": "code",
   "execution_count": 73,
   "metadata": {},
   "outputs": [
    {
     "data": {
      "text/plain": [
       "'5307538716'"
      ]
     },
     "execution_count": 73,
     "metadata": {},
     "output_type": "execute_result"
    }
   ],
   "source": [
    "phoneNormalize(\"(530) 753-8716\")"
   ]
  },
  {
   "cell_type": "code",
   "execution_count": 74,
   "metadata": {},
   "outputs": [],
   "source": [
    "conn = sqlite3.connect('test.db')\n",
    "cursor = conn.cursor()"
   ]
  },
  {
   "cell_type": "code",
   "execution_count": 83,
   "metadata": {},
   "outputs": [],
   "source": [
    "for row in json_output['providers']:\n",
    "    cursor.execute(insert_internal, (toUpperNormalize(row['id']), toUpperNormalize(row['provider_name']), phoneNormalize(row['phone']), toUpperNormalize(row['email']), toUpperNormalize(row['owner_name'])))"
   ]
  },
  {
   "cell_type": "code",
   "execution_count": 84,
   "metadata": {},
   "outputs": [],
   "source": [
    "conn.commit()"
   ]
  },
  {
   "cell_type": "code",
   "execution_count": 85,
   "metadata": {},
   "outputs": [
    {
     "name": "stdout",
     "output_type": "stream",
     "text": [
      "('PRVDRS_XTVZPYTRIZSRBVJOJKUHKRH6', 'LA RUE PARK CHILD DEVELOPMENT CENTER', 5307538716, 'SNFARIA@UCDAVIS.EDU', 'ELIZABETH WALL')\n",
      "('PRVDRS_9XYNILFFFJGEJJWBJP2UVLJE', 'CAROUSEL PRESCHOOL', 3102166641, 'JANE.UY@CAROUSELSCHOOL.COM', 'SHANEKA KITTRELL')\n",
      "('PRVDRS_6FWQ7DWGBVCTHRZWBPBUZHWJ', 'ADVENTURE CLUB - QUAIL GLEN', 9167727529, 'JRUTLEDGE@ROSEVILLE.CA.US', 'DEWAYNE BUNNING')\n",
      "('PRVDRS_8YF3TYI0EEQLJM1UIEOZVX68', 'ADVENTURE CLUB - COYOTE RIDGE', 9167727271, 'VSISNEROZ@ROSEVILLE.CA.US', 'ERNEST EDMONDSON')\n",
      "('PRVDRS_NH2OZYH77WA1VS2AXSMQFNLX', 'AZUSA DISCOVERY CENTER', 6263341806, 'JHDMADDOX60@MSN.COM', 'WILLIAM BLISS')\n"
     ]
    }
   ],
   "source": [
    "cursor.execute(\"SELECT * FROM InternalSource LIMIT 5\")\n",
    "results = cursor.fetchall()\n",
    "for res in results:\n",
    "    print(res)"
   ]
  },
  {
   "cell_type": "code",
   "execution_count": 86,
   "metadata": {},
   "outputs": [],
   "source": [
    "conn.close()"
   ]
  },
  {
   "cell_type": "code",
   "execution_count": null,
   "metadata": {},
   "outputs": [],
   "source": []
  },
  {
   "cell_type": "markdown",
   "metadata": {},
   "source": [
    "# Update data from InternalSource to Providers"
   ]
  },
  {
   "cell_type": "code",
   "execution_count": null,
   "metadata": {},
   "outputs": [],
   "source": []
  },
  {
   "cell_type": "code",
   "execution_count": null,
   "metadata": {},
   "outputs": [],
   "source": []
  },
  {
   "cell_type": "code",
   "execution_count": null,
   "metadata": {},
   "outputs": [],
   "source": []
  },
  {
   "cell_type": "code",
   "execution_count": null,
   "metadata": {},
   "outputs": [],
   "source": []
  }
 ],
 "metadata": {
  "kernelspec": {
   "display_name": "Python 3",
   "language": "python",
   "name": "python3"
  },
  "language_info": {
   "codemirror_mode": {
    "name": "ipython",
    "version": 3
   },
   "file_extension": ".py",
   "mimetype": "text/x-python",
   "name": "python",
   "nbconvert_exporter": "python",
   "pygments_lexer": "ipython3",
   "version": "3.7.3"
  }
 },
 "nbformat": 4,
 "nbformat_minor": 2
}
